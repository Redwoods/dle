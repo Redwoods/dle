{
  "cells": [
    {
      "cell_type": "markdown",
      "metadata": {
        "id": "view-in-github",
        "colab_type": "text"
      },
      "source": [
        "<a href=\"https://colab.research.google.com/github/Redwoods/dle/blob/main/project/dlxx_prj_final.ipynb\" target=\"_parent\"><img src=\"https://colab.research.google.com/assets/colab-badge.svg\" alt=\"Open In Colab\"/></a>"
      ]
    },
    {
      "cell_type": "markdown",
      "metadata": {
        "id": "wONZs3Ne2i_h"
      },
      "source": [
        "# DLe final project\n",
        "## Dataset: dogsNcats\n",
        "- ## Transfer Learning => Fine tuning using EfficientNetV2S\n",
        "## 참고 노트\n",
        "- #### https://github.com/Redwoods/dle/blob/main/project/dogsNcats/dogsNcats_DL_TL_EffiNetV2S_A_ConvNet.ipynb"
      ]
    },
    {
      "cell_type": "markdown",
      "metadata": {
        "id": "lkru-Cgtf788"
      },
      "source": [
        "- ### dlxx_prj_final.ipynb 파일을 chaos21c@gmail.com 으로 첨부해서 보내세요\n",
        "- ### 메일 제목: dlxx 이름"
      ]
    },
    {
      "cell_type": "markdown",
      "metadata": {
        "id": "D4GDiEP0qoNt"
      },
      "source": [
        "## 노트 구성\n",
        "\n",
        "1. ### Load data\n",
        "    - ### Show a sample image\n",
        "2. ### Make tensorflow dataset\n",
        "    - ### Visualize images from tensorflow dataset\n",
        "3. ### Data Augmentation\n",
        "    - ### Visualize the augmented images\n",
        "4. ### Make model using base model: EfficientNetV2S\n",
        "    - ### Fine Tuning\n",
        "5. ### Train model with callbacks\n",
        "    - ### Plot training graphs: loss & accuracy\n",
        "    - ### Confusion matrix of the model\n",
        "6. ### Load the best model\n",
        "    - ### Confusion matrix of the best model\n",
        "    - ### test of the best model\n"
      ]
    },
    {
      "cell_type": "markdown",
      "source": [
        "---\n",
        "---"
      ],
      "metadata": {
        "id": "br3JWY9wQ1-w"
      }
    },
    {
      "cell_type": "code",
      "execution_count": null,
      "metadata": {
        "id": "9jC64NdM8z3Q"
      },
      "outputs": [],
      "source": []
    }
  ],
  "metadata": {
    "accelerator": "GPU",
    "colab": {
      "gpuType": "T4",
      "provenance": [],
      "include_colab_link": true
    },
    "kernelspec": {
      "display_name": "Python 3",
      "name": "python3"
    },
    "language_info": {
      "name": "python"
    }
  },
  "nbformat": 4,
  "nbformat_minor": 0
}