{
  "cells": [
    {
      "cell_type": "markdown",
      "metadata": {
        "id": "view-in-github",
        "colab_type": "text"
      },
      "source": [
        "<a href=\"https://colab.research.google.com/github/Redwoods/dle/blob/main/notebook/MLP_MNIST_784.ipynb\" target=\"_parent\"><img src=\"https://colab.research.google.com/assets/colab-badge.svg\" alt=\"Open In Colab\"/></a>"
      ]
    },
    {
      "cell_type": "code",
      "execution_count": null,
      "id": "cd2cbe80",
      "metadata": {
        "id": "cd2cbe80"
      },
      "outputs": [],
      "source": [
        "import numpy as np\n",
        "import matplotlib.pyplot as plt\n",
        "\n",
        "np.random.seed(0)"
      ]
    },
    {
      "cell_type": "code",
      "execution_count": null,
      "id": "e13a28bf",
      "metadata": {
        "id": "e13a28bf"
      },
      "outputs": [],
      "source": [
        "from sklearn.datasets import fetch_openml\n",
        "\n",
        "X, y = fetch_openml('mnist_784', return_X_y=True, as_frame=False)"
      ]
    },
    {
      "cell_type": "code",
      "execution_count": null,
      "id": "d6a70bc1",
      "metadata": {
        "id": "d6a70bc1"
      },
      "outputs": [],
      "source": [
        "print(X.shape, y.shape)"
      ]
    },
    {
      "cell_type": "code",
      "execution_count": null,
      "id": "36d709ff",
      "metadata": {
        "id": "36d709ff"
      },
      "outputs": [],
      "source": [
        "fig, axes = plt.subplots(5, 10, figsize=(10, 5))\n",
        "i = 0\n",
        "for ax in axes.flat:  # \n",
        "    ax.imshow(X[i].reshape(28, 28), cmap='binary')\n",
        "    ax.axis('off')    \n",
        "    i += 1\n",
        "plt.savefig('digits.pdf')"
      ]
    },
    {
      "cell_type": "code",
      "execution_count": null,
      "id": "efe3437f",
      "metadata": {
        "id": "efe3437f"
      },
      "outputs": [],
      "source": [
        "np.unique(y, return_counts=True), y.shape"
      ]
    },
    {
      "cell_type": "code",
      "execution_count": null,
      "id": "5329cdb6",
      "metadata": {
        "id": "5329cdb6"
      },
      "outputs": [],
      "source": [
        "X = X / 255.0"
      ]
    },
    {
      "cell_type": "code",
      "execution_count": null,
      "id": "ff2ac0b7",
      "metadata": {
        "id": "ff2ac0b7"
      },
      "outputs": [],
      "source": [
        "train_size = 60000\n",
        "X_train, y_train = X[:train_size], y[:train_size]\n",
        "X_test, y_test = X[train_size:], y[train_size:]"
      ]
    },
    {
      "cell_type": "code",
      "execution_count": null,
      "id": "1a6be4d1",
      "metadata": {
        "id": "1a6be4d1"
      },
      "outputs": [],
      "source": [
        "from sklearn.neural_network import MLPClassifier\n",
        "\n",
        "mlp = MLPClassifier(hidden_layer_sizes=(300,), early_stopping=True, \n",
        "                    verbose=True)"
      ]
    },
    {
      "cell_type": "code",
      "execution_count": null,
      "id": "712d08e8",
      "metadata": {
        "id": "712d08e8"
      },
      "outputs": [],
      "source": [
        "mlp.fit(X_train, y_train)"
      ]
    },
    {
      "cell_type": "code",
      "execution_count": null,
      "id": "b5818300",
      "metadata": {
        "id": "b5818300"
      },
      "outputs": [],
      "source": [
        "print('Accuracy on training set:', mlp.score(X_train, y_train))\n",
        "print('Accuracy on test set:', mlp.score(X_test, y_test))"
      ]
    },
    {
      "cell_type": "code",
      "execution_count": null,
      "id": "0ad1279d",
      "metadata": {
        "id": "0ad1279d"
      },
      "outputs": [],
      "source": [
        "from sklearn.metrics import confusion_matrix, ConfusionMatrixDisplay\n",
        "\n",
        "y_pred = mlp.predict(X_test)\n",
        "cm = confusion_matrix(y_test, y_pred)\n",
        "disp = ConfusionMatrixDisplay(confusion_matrix=cm, display_labels=mlp.classes_)\n",
        "disp.plot(cmap='Blues')\n",
        "\n",
        "plt.savefig('confusion_matrix.pdf')"
      ]
    },
    {
      "cell_type": "markdown",
      "id": "7e9b2022",
      "metadata": {
        "id": "7e9b2022"
      },
      "source": [
        "Visualization of the weights"
      ]
    },
    {
      "cell_type": "code",
      "execution_count": null,
      "id": "33af2e73",
      "metadata": {
        "id": "33af2e73"
      },
      "outputs": [],
      "source": [
        "print(mlp.coefs_[0].shape,mlp.coefs_[1].shape)"
      ]
    },
    {
      "cell_type": "code",
      "execution_count": null,
      "id": "b8c3cb83",
      "metadata": {
        "id": "b8c3cb83"
      },
      "outputs": [],
      "source": [
        "fig, axes = plt.subplots(4, 5)\n",
        "\n",
        "for coef, ax in zip(mlp.coefs_[0].T, axes.flat):\n",
        "    im = ax.imshow(coef.reshape(28, 28), cmap='gray')\n",
        "    ax.axis('off')\n",
        "    \n",
        "fig.colorbar(im, ax=axes.flat)\n",
        "plt.savefig('mlp_weights.pdf')"
      ]
    },
    {
      "cell_type": "markdown",
      "source": [
        "---"
      ],
      "metadata": {
        "id": "D6V97Mk5wFUo"
      },
      "id": "D6V97Mk5wFUo"
    },
    {
      "cell_type": "code",
      "execution_count": null,
      "id": "18c6e9be",
      "metadata": {
        "id": "18c6e9be"
      },
      "outputs": [],
      "source": []
    }
  ],
  "metadata": {
    "kernelspec": {
      "display_name": "Python 3 (Spyder)",
      "language": "python3",
      "name": "python3"
    },
    "language_info": {
      "codemirror_mode": {
        "name": "ipython",
        "version": 3
      },
      "file_extension": ".py",
      "mimetype": "text/x-python",
      "name": "python",
      "nbconvert_exporter": "python",
      "pygments_lexer": "ipython3",
      "version": "3.9.12"
    },
    "colab": {
      "provenance": [],
      "include_colab_link": true
    },
    "gpuClass": "standard"
  },
  "nbformat": 4,
  "nbformat_minor": 5
}